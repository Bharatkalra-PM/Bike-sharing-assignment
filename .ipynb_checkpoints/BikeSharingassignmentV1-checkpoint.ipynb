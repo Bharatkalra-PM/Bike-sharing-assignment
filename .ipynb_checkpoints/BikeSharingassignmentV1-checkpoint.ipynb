{
 "cells": [
  {
   "cell_type": "code",
   "execution_count": null,
   "id": "f1cc38d6",
   "metadata": {},
   "outputs": [],
   "source": [
    "#Reading and Understanding the data\n",
    "\n",
    "import numpy as np\n",
    "import pandas as pd\n",
    "import matplotlib.pyplot as plt\n",
    "import seaborn as sns\n",
    "\n",
    "#libraries to build the model\n",
    "import statsmodels\n",
    "import statsmodels.api as sm\n",
    "import sklearn\n",
    "from sklearn.model_selection import train_test_split\n",
    "from sklearn.preprocessing import MinMaxScaler\n",
    "from statsmodels.stats.outliers_influence import variance_inflation_factor\n",
    "from sklearn.metrics import r2_score\n",
    "\n",
    "import warnings\n",
    "warnings.filterwarnings('ignore')"
   ]
  },
  {
   "cell_type": "markdown",
   "id": "a07fd8bb",
   "metadata": {},
   "source": [
    "## STEPS TO PERFORM MULTIPLE LINEAR REGRESSION\n",
    "\n",
    "1) Reading and Understanding the data \n",
    "2) Cleaning the data\n",
    "3) Visualizing the data using EDA\n",
    "4) Preparing the data for modelling(train-test split, rescaling)\n",
    "5) Training the model\n",
    "6) Residual Analysis\n",
    "7) Predictions and Evaluations on test set"
   ]
  },
  {
   "cell_type": "markdown",
   "id": "6ec78c09",
   "metadata": {},
   "source": [
    "## Step 1: Reading and Understanding the Data"
   ]
  },
  {
   "cell_type": "code",
   "execution_count": null,
   "id": "c1ece629",
   "metadata": {},
   "outputs": [],
   "source": [
    "bikesharing = pd.read_csv(\"day.csv\")\n",
    "bikesharing.head()"
   ]
  },
  {
   "cell_type": "code",
   "execution_count": null,
   "id": "f7f767ee",
   "metadata": {},
   "outputs": [],
   "source": [
    "bikesharing.shape"
   ]
  },
  {
   "cell_type": "code",
   "execution_count": null,
   "id": "2fe1c903",
   "metadata": {},
   "outputs": [],
   "source": [
    "#Target variable(cnt) is a continuous variable and from predictor variables, some are continuous & some are categorical"
   ]
  },
  {
   "cell_type": "code",
   "execution_count": null,
   "id": "cc9de7a8",
   "metadata": {},
   "outputs": [],
   "source": [
    "bikesharing.info()\n",
    "#In the output we can see that there are no missing values. In case there are any, we can perform imputation on the same "
   ]
  },
  {
   "cell_type": "code",
   "execution_count": null,
   "id": "08c1569b",
   "metadata": {},
   "outputs": [],
   "source": [
    "#Identify coloumns with all values as Zero and Remove them\n",
    "zero_coloumns = bikesharing.columns[bikesharing.eq(0).all()]\n",
    "zero_coloumns"
   ]
  },
  {
   "cell_type": "code",
   "execution_count": null,
   "id": "f3ebb5e8",
   "metadata": {},
   "outputs": [],
   "source": [
    "#Identify coloumns with all values as same\n",
    "Same_valuecols = bikesharing.columns[bikesharing.nunique()==1]\n",
    "Same_valuecols"
   ]
  },
  {
   "cell_type": "code",
   "execution_count": null,
   "id": "f175c43f",
   "metadata": {},
   "outputs": [],
   "source": [
    "bikesharing.describe()"
   ]
  },
  {
   "cell_type": "code",
   "execution_count": null,
   "id": "ffd07234",
   "metadata": {},
   "outputs": [],
   "source": [
    "#Display all the coloumns\n",
    "bikesharing.columns"
   ]
  },
  {
   "cell_type": "markdown",
   "id": "826fce30",
   "metadata": {},
   "source": [
    "#### Quick Data Summary:\n",
    "\n",
    "    - No Null values in the data\n",
    "    - 730 rows, 16 columns\n",
    "    - No columns with all same values\n",
    "    - Target variable(cnt) is a continuous variable and from predictor variables, some are continuous & some are categorical"
   ]
  },
  {
   "cell_type": "markdown",
   "id": "e744280c",
   "metadata": {},
   "source": [
    "## Step 2: Cleaning the dataset. \n",
    "        - Applying imputations and dropping irrelevant columns"
   ]
  },
  {
   "cell_type": "code",
   "execution_count": null,
   "id": "d2c54acb",
   "metadata": {},
   "outputs": [],
   "source": [
    "bikesharing.head()"
   ]
  },
  {
   "cell_type": "code",
   "execution_count": null,
   "id": "b4b73372",
   "metadata": {},
   "outputs": [],
   "source": [
    "#Dropping below columns:\n",
    "    # - dteday since we wont do day-to day analysis here. ALso, we already have month, year and weekday columns separately\n",
    "    # - instant since it is just an index and nothing else\n",
    "    # - casual and registered since we have cnt as the target variable which is a sum of casual and registered\n",
    "    \n",
    "bikesharing.drop(['registered', 'casual', 'dteday', 'instant'], axis=1, inplace= True)"
   ]
  },
  {
   "cell_type": "code",
   "execution_count": null,
   "id": "0121c3b7",
   "metadata": {},
   "outputs": [],
   "source": [
    "bikesharing.head()"
   ]
  },
  {
   "cell_type": "code",
   "execution_count": null,
   "id": "d2fdce5c",
   "metadata": {},
   "outputs": [],
   "source": [
    "bikesharing.shape"
   ]
  },
  {
   "cell_type": "code",
   "execution_count": null,
   "id": "e5da235d",
   "metadata": {},
   "outputs": [],
   "source": [
    "bikesharing.info()"
   ]
  },
  {
   "cell_type": "code",
   "execution_count": null,
   "id": "69fe7cbb",
   "metadata": {},
   "outputs": [],
   "source": [
    "#Categorical variables season,mnth,weekday,weathersit are integer values. \n",
    "    # - But they dont follow any order and should be converted to String"
   ]
  },
  {
   "cell_type": "code",
   "execution_count": null,
   "id": "ca3fbc09",
   "metadata": {},
   "outputs": [],
   "source": [
    "bikesharing.season = bikesharing.season.replace({1: \"spring\", 2: \"summer\", 3: \"fall\", 4: \"winter\"})\n",
    "bikesharing.mnth   = bikesharing.mnth.replace({1: 'jan',2: 'feb',3: 'mar',4: 'apr',5: 'may',6: 'jun',\n",
    "                  7: 'jul',8: 'aug',9: 'sept',10: 'oct',11: 'nov',12: 'dec'})\n",
    "bikesharing.weekday = bikesharing.weekday.replace({0: 'sun',1: 'mon',2: 'tue',3: 'wed',4: 'thu',5: 'fri',6: 'sat'})\n",
    "bikesharing.weathersit = bikesharing.weathersit.replace({1: 'good',2: 'moderate',3: 'bad',4: 'severe'})\n",
    "\n",
    "bikesharing.head(20)"
   ]
  },
  {
   "cell_type": "code",
   "execution_count": null,
   "id": "b391b91d",
   "metadata": {},
   "outputs": [],
   "source": [
    "bikesharing.info()"
   ]
  },
  {
   "cell_type": "markdown",
   "id": "30c4c0fe",
   "metadata": {},
   "source": [
    "## Step 3: Reading and Visualizing the data"
   ]
  },
  {
   "cell_type": "code",
   "execution_count": null,
   "id": "b508be52",
   "metadata": {},
   "outputs": [],
   "source": [
    "#Visualizing the data\n",
    "#Linear Relationship and multicollinearity check"
   ]
  },
  {
   "cell_type": "code",
   "execution_count": null,
   "id": "032bf242",
   "metadata": {},
   "outputs": [],
   "source": [
    "#Visualizing the numeric variables\n",
    "sns.pairplot(bikesharing)\n",
    "plt.show()"
   ]
  },
  {
   "cell_type": "markdown",
   "id": "96e62cfb",
   "metadata": {},
   "source": [
    "#### From the pairplots, We can see that there are atleast some numeric variables which have a linear relationship\n",
    "Hence we should consider a Linear relationship\n",
    "\n",
    "Additionally below are the inferences:\n",
    "    - cnt and temp are highly correlated\n",
    "    - cnt and atemp are highly correlated"
   ]
  },
  {
   "cell_type": "code",
   "execution_count": null,
   "id": "48e5f8e5",
   "metadata": {},
   "outputs": [],
   "source": [
    "bikesharing.head()"
   ]
  },
  {
   "cell_type": "code",
   "execution_count": null,
   "id": "656deeb5",
   "metadata": {},
   "outputs": [],
   "source": [
    "#Visualising the categorical variables\n",
    "plt.figure(figsize=(20,12))\n",
    "plt.subplot(2,4,1)\n",
    "sns.boxplot(x='season',y='cnt',data=bikesharing)\n",
    "plt.subplot(2,4,2)\n",
    "sns.boxplot(x='yr',y='cnt',data=bikesharing)\n",
    "plt.subplot(2,4,3)\n",
    "sns.boxplot(x='mnth',y='cnt',data=bikesharing)\n",
    "plt.subplot(2,4,4)\n",
    "sns.boxplot(x='holiday',y='cnt',data=bikesharing)\n",
    "plt.subplot(2,4,5)\n",
    "sns.boxplot(x='weekday',y='cnt',data=bikesharing)\n",
    "plt.subplot(2,4,6)\n",
    "sns.boxplot(x='workingday',y='cnt',data=bikesharing)\n",
    "plt.subplot(2,4,7)\n",
    "sns.boxplot(x='weathersit',y='cnt',data=bikesharing)\n",
    "plt.show()"
   ]
  },
  {
   "cell_type": "markdown",
   "id": "f6187dd1",
   "metadata": {},
   "source": [
    "### From the boxplots, we can see that:\n",
    "    -  count of total rental bikes is higher during the fall season and relatively low in spring season\n",
    "    -  count of total rental bikes increases significantly in the year 2019 from 2018\n",
    "    -  count of total rental bikes increases somewhat linearly in first half of the year and then it starts decreasing\n",
    "    -  count of total rental bikes is higher on days(other than holidays), probably because people commute to office\n",
    "    -  count of total rental bikes is higher during clear weather and dips during rainy days"
   ]
  },
  {
   "cell_type": "markdown",
   "id": "e18c4103",
   "metadata": {},
   "source": [
    "### Step 2: Preparing the dataset for Modelling\n",
    "    - Encoding: \n",
    "    - Converting Binary Variables to 0/1 \n",
    "    - Other Categorical variables to dummy variables\n",
    "    - Splitting the data into train and test  \n",
    "    - Rescaling of variables"
   ]
  },
  {
   "cell_type": "code",
   "execution_count": null,
   "id": "d71f2e7b",
   "metadata": {},
   "outputs": [],
   "source": [
    "#Creating a heatmap\n",
    "plt.figure(figsize = (16,10))\n",
    "sns.heatmap(bikesharing.corr(),annot=True,cmap=\"YlGnBu\")\n",
    "plt.show()"
   ]
  },
  {
   "cell_type": "code",
   "execution_count": null,
   "id": "6a3d9e63",
   "metadata": {},
   "outputs": [],
   "source": [
    "print(bikesharing.season.value_counts())"
   ]
  },
  {
   "cell_type": "code",
   "execution_count": null,
   "id": "d0433498",
   "metadata": {},
   "outputs": [],
   "source": [
    "print(bikesharing.yr.value_counts())"
   ]
  },
  {
   "cell_type": "code",
   "execution_count": null,
   "id": "9362cb1a",
   "metadata": {},
   "outputs": [],
   "source": [
    "#From the Heatmap, we can see that count of total rental bikes is highly correlated with temp and atemp\n",
    "    # - However, we need to do the encoding and scaling first"
   ]
  },
  {
   "cell_type": "markdown",
   "id": "a519fd9b",
   "metadata": {},
   "source": [
    "#### Dummy Variable Encoding"
   ]
  },
  {
   "cell_type": "code",
   "execution_count": null,
   "id": "afadac26",
   "metadata": {},
   "outputs": [],
   "source": [
    "bikesharing.head(10)"
   ]
  },
  {
   "cell_type": "code",
   "execution_count": null,
   "id": "a304405d",
   "metadata": {},
   "outputs": [],
   "source": [
    "bikesharing.shape"
   ]
  },
  {
   "cell_type": "code",
   "execution_count": null,
   "id": "b159ef40",
   "metadata": {},
   "outputs": [],
   "source": [
    "status = pd.get_dummies(bikesharing[\"season\"])\n",
    "status.head()"
   ]
  },
  {
   "cell_type": "code",
   "execution_count": null,
   "id": "ef93aa5c",
   "metadata": {},
   "outputs": [],
   "source": [
    "#Dropping the redundant dummy variable\n",
    "status1 = pd.get_dummies(bikesharing[\"season\"],drop_first='True')\n",
    "status1.head()"
   ]
  },
  {
   "cell_type": "code",
   "execution_count": null,
   "id": "17b4fae1",
   "metadata": {},
   "outputs": [],
   "source": [
    "status2 = pd.get_dummies(bikesharing[\"mnth\"],drop_first='True')\n",
    "status2.head()"
   ]
  },
  {
   "cell_type": "code",
   "execution_count": null,
   "id": "788d6eef",
   "metadata": {},
   "outputs": [],
   "source": [
    "status3 = pd.get_dummies(bikesharing[\"weekday\"],drop_first='True')\n",
    "status3.head()"
   ]
  },
  {
   "cell_type": "code",
   "execution_count": null,
   "id": "8107e9f3",
   "metadata": {},
   "outputs": [],
   "source": [
    "status4 = pd.get_dummies(bikesharing[\"weathersit\"])\n",
    "status4.head()"
   ]
  },
  {
   "cell_type": "code",
   "execution_count": null,
   "id": "21659e49",
   "metadata": {},
   "outputs": [],
   "source": [
    "# concat the dummy dataframe with original 'bikesharing' dataframe\n",
    "bikesharing = pd.concat([bikesharing,status1,status2,status3,status4],axis=1)\n",
    "bikesharing.head()"
   ]
  },
  {
   "cell_type": "code",
   "execution_count": null,
   "id": "34f87b6d",
   "metadata": {},
   "outputs": [],
   "source": [
    "bikesharing.shape"
   ]
  },
  {
   "cell_type": "code",
   "execution_count": null,
   "id": "24fac28e",
   "metadata": {},
   "outputs": [],
   "source": [
    "bikesharing.describe()"
   ]
  },
  {
   "cell_type": "code",
   "execution_count": null,
   "id": "7cd5bb35",
   "metadata": {},
   "outputs": [],
   "source": [
    "#Print columns after creating dummies\n",
    "bikesharing.columns"
   ]
  },
  {
   "cell_type": "code",
   "execution_count": null,
   "id": "06a2dad1",
   "metadata": {},
   "outputs": [],
   "source": [
    "#Drop season,mnth, weekday,weathersit coloumns\n",
    "bikesharing = bikesharing.drop('season', axis=1)\n",
    "bikesharing.head()"
   ]
  },
  {
   "cell_type": "code",
   "execution_count": null,
   "id": "1a0da0a5",
   "metadata": {},
   "outputs": [],
   "source": [
    "bikesharing = bikesharing.drop('mnth', axis=1)\n",
    "bikesharing.head()"
   ]
  },
  {
   "cell_type": "code",
   "execution_count": null,
   "id": "88e266fa",
   "metadata": {},
   "outputs": [],
   "source": [
    "bikesharing = bikesharing.drop('weekday', axis=1)\n",
    "bikesharing.head()"
   ]
  },
  {
   "cell_type": "code",
   "execution_count": null,
   "id": "ac2ed14e",
   "metadata": {},
   "outputs": [],
   "source": [
    "import os\n",
    "os.getcwd()"
   ]
  },
  {
   "cell_type": "code",
   "execution_count": null,
   "id": "9e4393c7",
   "metadata": {},
   "outputs": [],
   "source": []
  }
 ],
 "metadata": {
  "kernelspec": {
   "display_name": "Python 3 (ipykernel)",
   "language": "python",
   "name": "python3"
  },
  "language_info": {
   "codemirror_mode": {
    "name": "ipython",
    "version": 3
   },
   "file_extension": ".py",
   "mimetype": "text/x-python",
   "name": "python",
   "nbconvert_exporter": "python",
   "pygments_lexer": "ipython3",
   "version": "3.10.9"
  }
 },
 "nbformat": 4,
 "nbformat_minor": 5
}
